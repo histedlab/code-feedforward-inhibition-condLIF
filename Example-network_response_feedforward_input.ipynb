{
 "cells": [
  {
   "cell_type": "code",
   "execution_count": 3,
   "metadata": {
    "collapsed": false
   },
   "outputs": [
    {
     "name": "stderr",
     "output_type": "stream",
     "text": [" "
     ]
    }
   ],
   "source": [
    "%qtconsole # run this cell if you want an interactive console"
   ]
  },
  {
   "cell_type": "code",
   "execution_count": 2,
   "metadata": {
    "collapsed": false
   },
   "outputs": [
    {
     "name": "stderr",
     "output_type": "stream",
     "text": [
      " "
      ]
    }
   ],
   "source": [
    "# Notebook setup, imports\n",
    "import example_network as ex\n",
    "%autoreload 2\n",
    "%matplotlib inline"
   ]
  },
  {
   "cell_type": "code",
   "execution_count": 8,
   "metadata": {
    "collapsed": false
   },
   "outputs": [
    {
     "name": "stderr",
     "output_type": "stream",
     "text": [
      "brian.stateupdater: WARNING  Using codegen CStateUpdater\n"
     ]
    },
    {
     "name": "stdout",
     "output_type": "stream",
     "text": [
      "n cells: 10000, nE,I 8000,2000, Clock(dt=50.0 * usecond, t=0.0 * second), absRefractoryMs: 3\n",
      "Adding conductance for 2000 cells (can be slow):  done\n",
      "Network construction time: 84.4 seconds\n",
      "Simulation running...\n",
      "28% complete, 30s elapsed, approximately 1m 15s remaining.\n",
      "56% complete, 1m 0s elapsed, approximately 46s remaining.\n",
      "85% complete, 1m 30s elapsed, approximately 15s remaining.\n",
      "100% complete, 1m 46s elapsed, approximately 0s remaining.\n",
      "Simulation time: 107.4 seconds\n"
     ]
    }
   ],
   "source": [
    "ffInputType = 'E and I'\n",
    "\n",
    "multEI = (92.0, 102.0)  # Uncomment this for FF input to E and I cells\n",
    "#multEI = (28.0, 0.0)   # Uncomment this for FF input to E cells only \n",
    "\n",
    "outNT = ex.run_sim(ffExcInputMult=multEI[0], ffInhInputMult=multEI[1])"
   ]
  },
  {
   "cell_type": "code",
   "execution_count": 9,
   "metadata": {
    "collapsed": false
   },
   "outputs": [
    {
     "data": {
      "text/plain": [
       "<matplotlib.text.Text at 0x129398f10>"
      ]
     },
     "execution_count": 9,
     "metadata": {},
     "output_type": "execute_result"
    },
    {
     "data": {
      "image/png": "[encoded data removed]",
      "text/plain": [
       "<matplotlib.figure.Figure at 0x11335bd50>"
      ]
     },
     "metadata": {},
     "output_type": "display_data"
    }
   ],
   "source": [
    "import seaborn as sns\n",
    "a_ = np.asarray\n",
    "\n",
    "histWinMsL = [ 300.0+x*1000+a_((100,900)) for x in [0,1,2,3] ]\n",
    "histEdgesS = np.hstack(histWinMsL)/1000.0\n",
    "rateM = ex.hist_spikes(outNT.spiketimes, histEdgesS)\n",
    "meanRateV = np.mean(rateM[0:8000,:],axis=0)\n",
    "\n",
    "figH = plt.figure(figsize=(2.4,3.0))\n",
    "axH = plt.gca()\n",
    "baseRates = meanRateV[[0,4]]  # odd-numbered hist bins are discarded: small start/end segments\n",
    "evokedRates = meanRateV[[2,6]] - baseRates\n",
    "plt.plot(baseRates, evokedRates, 'x-', lw=3.0)\n",
    "plt.plot(baseRates[0], evokedRates[0], '.', color='#754C29', ms=20)\n",
    "plt.plot(baseRates[1], evokedRates[1], '.', color='#00AEEF', ms=20)\n",
    "plt.plot([0,50], a_((1,1))*evokedRates[0], 'k--', lw=0.25)\n",
    "axH.set_ylim((2,12))\n",
    "\n",
    "axH.set_ylabel('stim resp. rate (spk/s)')\n",
    "axH.tick_params(direction='outward', top='off', right='off')\n",
    "for tA in [axH.title, axH.xaxis.label, axH.yaxis.label]:\n",
    "       tA.set_fontsize(11)\n",
    "for tA in axH.get_xticklabels()+axH.get_yticklabels():\n",
    "        tA.set_fontsize(10)\n",
    "axH.set_xticks(np.r_[0:30:5])\n",
    "axH.set_xlim((0,24))\n",
    "axH.set_xlabel('baseline rate (spk/s)')\n"
   ]
  }
 ],
 "metadata": {
  "kernelspec": {
   "display_name": "Python 2",
   "language": "python",
   "name": "python2"
  },
  "language_info": {
   "codemirror_mode": {
    "name": "ipython",
    "version": 2
   },
   "file_extension": ".py",
   "mimetype": "text/x-python",
   "name": "python",
   "nbconvert_exporter": "python",
   "pygments_lexer": "ipython2",
   "version": "2.7.11"
  }
 },
 "nbformat": 4,
 "nbformat_minor": 0
}
